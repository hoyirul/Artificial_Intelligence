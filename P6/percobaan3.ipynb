{
 "cells": [
  {
   "cell_type": "code",
   "execution_count": 2,
   "source": [
    "from operator import itemgetter, attrgetter\r\n",
    "w = [3,4,1,7,6,8,9]\r\n",
    "p = [4,5,2,5,5,8,11]\r\n",
    "item = [[3,4],[4,5],[1,2],[7,5],[6,5],[8,8],[9,11]]\r\n",
    "\r\n",
    "i=0\r\n",
    "while i<len(item):\r\n",
    "    hasil = item[i][1]/item[i][0]\r\n",
    "    item[i].append(hasil)\r\n",
    "    i +=1\r\n",
    "    \r\n",
    "data = sorted(item,key=itemgetter(2), reverse = True)\r\n",
    "\r\n",
    "def knapsack(data,cap,flag):\r\n",
    "    total=0\r\n",
    "    tres=\"\"\r\n",
    "    if(flag==0):\r\n",
    "        dataS = sorted(data,key=itemgetter(flag), reverse = True)\r\n",
    "        tres=\"bobot prioritas: \"\r\n",
    "    elif(flag==1):\r\n",
    "        dataS = sorted(data,key=itemgetter(flag), reverse = True)\r\n",
    "        tres=\"keuntungan prioritas: \"\r\n",
    "    elif(flag==2):\r\n",
    "        dataS = sorted(data,key=itemgetter(flag), reverse = True)\r\n",
    "        tres=\"p prioritas : \"\r\n",
    "    else:\r\n",
    "        return \"Error\"\r\n",
    "    \r\n",
    "    j=0\r\n",
    "    hasil=0\r\n",
    "    #print(\"sini\")\r\n",
    "    cek=0\r\n",
    "    weight=0\r\n",
    "    while(j<len(dataS)):\r\n",
    "        \r\n",
    "        if(cek+dataS[j][0]<=cap):\r\n",
    "            hasil=hasil+dataS[j][1]\r\n",
    "            weight=weight+dataS[j][0]\r\n",
    "            print(dataS[j][0])\r\n",
    "        cek=weight\r\n",
    "        j+=1\r\n",
    "        #print(\"here\")\r\n",
    "    return(\"Optimal dalam \"+str(tres)+str(hasil))\r\n",
    "\r\n",
    "print(knapsack(item,20,0))\r\n",
    "print(knapsack(item,20,1))\r\n",
    "print(knapsack(item,20,2))"
   ],
   "outputs": [
    {
     "output_type": "stream",
     "name": "stdout",
     "text": [
      "9\n",
      "8\n",
      "3\n",
      "Optimal dalam bobot prioritas: 23\n",
      "9\n",
      "8\n",
      "3\n",
      "Optimal dalam keuntungan prioritas: 23\n",
      "1\n",
      "3\n",
      "4\n",
      "9\n",
      "Optimal dalam p prioritas : 22\n"
     ]
    }
   ],
   "metadata": {}
  }
 ],
 "metadata": {
  "orig_nbformat": 4,
  "language_info": {
   "name": "python",
   "version": "3.9.0",
   "mimetype": "text/x-python",
   "codemirror_mode": {
    "name": "ipython",
    "version": 3
   },
   "pygments_lexer": "ipython3",
   "nbconvert_exporter": "python",
   "file_extension": ".py"
  },
  "kernelspec": {
   "name": "python3",
   "display_name": "Python 3.9.0 64-bit"
  },
  "interpreter": {
   "hash": "44c586f75b23a89659694ae60941d7c0ce53054168c68f39990608d2df2f7e5a"
  }
 },
 "nbformat": 4,
 "nbformat_minor": 2
}