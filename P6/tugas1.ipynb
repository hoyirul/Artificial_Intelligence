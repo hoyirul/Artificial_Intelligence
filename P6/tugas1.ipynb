{
 "cells": [
  {
   "cell_type": "code",
   "execution_count": 1,
   "source": [
    "DAG = {'A': {'B':1, 'C':3, 'D': 7},\r\n",
    "       'B': {'D': 5},\r\n",
    "       'C': {'D': 12}\r\n",
    "      }\r\n",
    "def shortest_path(graph, source, dest):\r\n",
    "    result = []\r\n",
    "    result.append(source)\r\n",
    "    \r\n",
    "    while dest not in result:\r\n",
    "        current_node =  result[-1]\r\n",
    "        local_max = min(graph[current_node].values())\r\n",
    "        for node, weight in graph[current_node].items():\r\n",
    "            if weight == local_max:\r\n",
    "                result.append(node)\r\n",
    "    return result\r\n",
    "shortest_path(DAG, 'A', 'D')"
   ],
   "outputs": [
    {
     "output_type": "execute_result",
     "data": {
      "text/plain": [
       "['A', 'B', 'D']"
      ]
     },
     "metadata": {},
     "execution_count": 1
    }
   ],
   "metadata": {}
  }
 ],
 "metadata": {
  "orig_nbformat": 4,
  "language_info": {
   "name": "python",
   "version": "3.9.0",
   "mimetype": "text/x-python",
   "codemirror_mode": {
    "name": "ipython",
    "version": 3
   },
   "pygments_lexer": "ipython3",
   "nbconvert_exporter": "python",
   "file_extension": ".py"
  },
  "kernelspec": {
   "name": "python3",
   "display_name": "Python 3.9.0 64-bit"
  },
  "interpreter": {
   "hash": "44c586f75b23a89659694ae60941d7c0ce53054168c68f39990608d2df2f7e5a"
  }
 },
 "nbformat": 4,
 "nbformat_minor": 2
}