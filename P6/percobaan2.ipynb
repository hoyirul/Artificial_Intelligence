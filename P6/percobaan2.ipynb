{
 "cells": [
  {
   "cell_type": "code",
   "execution_count": 10,
   "source": [
    "DAG = {\r\n",
    "    'A': {'C': 4, 'G': 9},\r\n",
    "    'G': {'E': 6},\r\n",
    "    'C': {'D': 6, 'H': 12},\r\n",
    "    'D': {'E': 7},\r\n",
    "    'H': {'F': 15},\r\n",
    "    'E': {'F': 8},\r\n",
    "    'F': {'B': 5}\r\n",
    "}\r\n",
    "def shortest_path(graph, source, dest):\r\n",
    "    result =[]\r\n",
    "    result.append(source)\r\n",
    "    while dest not in result:\r\n",
    "        current_node = result[-1]\r\n",
    "        local_max = min(graph[current_node].values())\r\n",
    "        for node, weight in graph[current_node].items():\r\n",
    "            if weight == local_max:\r\n",
    "                result.append(node)\r\n",
    "    return result\r\n",
    "print(\"Hasil pencarian algoritma greedy:\")\r\n",
    "shortest_path(DAG, 'A', 'F')"
   ],
   "outputs": [
    {
     "output_type": "stream",
     "name": "stdout",
     "text": [
      "Hasil pencarian algoritma greedy:\n"
     ]
    },
    {
     "output_type": "execute_result",
     "data": {
      "text/plain": [
       "['A', 'C', 'D', 'E', 'F']"
      ]
     },
     "metadata": {},
     "execution_count": 10
    }
   ],
   "metadata": {}
  }
 ],
 "metadata": {
  "orig_nbformat": 4,
  "language_info": {
   "name": "python",
   "version": "3.9.0",
   "mimetype": "text/x-python",
   "codemirror_mode": {
    "name": "ipython",
    "version": 3
   },
   "pygments_lexer": "ipython3",
   "nbconvert_exporter": "python",
   "file_extension": ".py"
  },
  "kernelspec": {
   "name": "python3",
   "display_name": "Python 3.9.0 64-bit"
  },
  "interpreter": {
   "hash": "44c586f75b23a89659694ae60941d7c0ce53054168c68f39990608d2df2f7e5a"
  }
 },
 "nbformat": 4,
 "nbformat_minor": 2
}