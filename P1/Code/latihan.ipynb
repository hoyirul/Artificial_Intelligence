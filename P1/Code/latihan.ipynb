{
 "cells": [
  {
   "cell_type": "code",
   "execution_count": 2,
   "metadata": {},
   "outputs": [
    {
     "name": "stdout",
     "output_type": "stream",
     "text": [
      "[0 1 2 3 4 5 6 7 8 9]\n",
      "Halo teman. Waktu sekarang adalah 2021-09-01 09:16:33.674447\n"
     ]
    },
    {
     "data": {
      "text/html": [
       "<div>\n",
       "<style scoped>\n",
       "    .dataframe tbody tr th:only-of-type {\n",
       "        vertical-align: middle;\n",
       "    }\n",
       "\n",
       "    .dataframe tbody tr th {\n",
       "        vertical-align: top;\n",
       "    }\n",
       "\n",
       "    .dataframe thead th {\n",
       "        text-align: right;\n",
       "    }\n",
       "</style>\n",
       "<table border=\"1\" class=\"dataframe\">\n",
       "  <thead>\n",
       "    <tr style=\"text-align: right;\">\n",
       "      <th></th>\n",
       "      <th>nama</th>\n",
       "      <th>umur</th>\n",
       "      <th>propinsi</th>\n",
       "    </tr>\n",
       "  </thead>\n",
       "  <tbody>\n",
       "    <tr>\n",
       "      <th>0</th>\n",
       "      <td>joni</td>\n",
       "      <td>23</td>\n",
       "      <td>Sumatera Selatan</td>\n",
       "    </tr>\n",
       "    <tr>\n",
       "      <th>1</th>\n",
       "      <td>meri</td>\n",
       "      <td>78</td>\n",
       "      <td>Jatim</td>\n",
       "    </tr>\n",
       "    <tr>\n",
       "      <th>2</th>\n",
       "      <td>peter</td>\n",
       "      <td>22</td>\n",
       "      <td>DKI</td>\n",
       "    </tr>\n",
       "  </tbody>\n",
       "</table>\n",
       "</div>"
      ],
      "text/plain": [
       "    nama  umur          propinsi\n",
       "0   joni    23  Sumatera Selatan\n",
       "1   meri    78             Jatim\n",
       "2  peter    22               DKI"
      ]
     },
     "execution_count": 2,
     "metadata": {},
     "output_type": "execute_result"
    }
   ],
   "source": [
    "# NOMOR 1\r\n",
    "# Lokasi penyimpanan default C:\\Users\\name\\Untittled.ipynb\r\n",
    "\r\n",
    "# NOMOR 2\r\n",
    "import numpy as np\r\n",
    "import datetime as dt\r\n",
    "import pandas as pd\r\n",
    "\r\n",
    "a = np.arange(10)\r\n",
    "print(a)\r\n",
    "\r\n",
    "now = dt.datetime.now()\r\n",
    "print('Halo teman. Waktu sekarang adalah {}'.format(now))\r\n",
    "\r\n",
    "df = pd.DataFrame({\r\n",
    "        'nama':['joni','meri','peter'],\r\n",
    "        'umur':[23,78,22],\r\n",
    "        'propinsi':['Sumatera Selatan','Jatim','DKI']\r\n",
    "     })\r\n",
    "df\r\n",
    "\r\n",
    "# NOMOR 3\r\n",
    "# Menggunakan tagar untuk komen pada baris\r\n",
    "\r\n",
    "# NOMOR 4\r\n",
    "str = \"Mochammad Hairullah\"\r\n",
    "print(str.upper())"
   ]
  }
 ],
 "metadata": {
  "interpreter": {
   "hash": "44c586f75b23a89659694ae60941d7c0ce53054168c68f39990608d2df2f7e5a"
  },
  "kernelspec": {
   "display_name": "Python 3.9.0 64-bit",
   "name": "python3"
  },
  "language_info": {
   "codemirror_mode": {
    "name": "ipython",
    "version": 3
   },
   "file_extension": ".py",
   "mimetype": "text/x-python",
   "name": "python",
   "nbconvert_exporter": "python",
   "pygments_lexer": "ipython3",
   "version": "3.9.0"
  },
  "orig_nbformat": 4
 },
 "nbformat": 4,
 "nbformat_minor": 2
}