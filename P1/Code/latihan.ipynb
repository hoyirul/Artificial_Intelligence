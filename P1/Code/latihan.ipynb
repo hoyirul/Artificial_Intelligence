{
 "cells": [
  {
   "cell_type": "code",
   "execution_count": 3,
   "metadata": {},
   "outputs": [
    {
     "name": "stdout",
     "output_type": "stream",
     "text": [
      "MOCHAMMAD HAIRULLAH\n"
     ]
    }
   ],
   "source": [
    "# NOMOR 1\r\n",
    "# Lokasi penyimpanan default C:\\Users\\name\\Untittled.ipynb\r\n",
    "\r\n",
    "# NOMOR 2\r\n",
    "import numpy as np\r\n",
    "import datetime as dt\r\n",
    "import pandas as pd\r\n",
    "\r\n",
    "a = np.arange(10)\r\n",
    "print(a)\r\n",
    "\r\n",
    "now = dt.datetime.now()\r\n",
    "print('Halo teman. Waktu sekarang adalah {}'.format(now))\r\n",
    "\r\n",
    "df = pd.DataFrame({\r\n",
    "        'nama':['joni','meri','peter'],\r\n",
    "        'umur':[23,78,22],\r\n",
    "        'propinsi':['Sumatera Selatan','Jatim','DKI']\r\n",
    "     })\r\n",
    "df\r\n",
    "\r\n",
    "# NOMOR 3\r\n",
    "# Menggunakan tagar untuk komen pada baris\r\n",
    "\r\n",
    "# NOMOR 4\r\n",
    "str = \"Mochammad Hairullah\"\r\n",
    "print(str.upper())"
   ]
  }
 ],
 "metadata": {
  "interpreter": {
   "hash": "44c586f75b23a89659694ae60941d7c0ce53054168c68f39990608d2df2f7e5a"
  },
  "kernelspec": {
   "display_name": "Python 3.9.0 64-bit",
   "name": "python3"
  },
  "language_info": {
   "codemirror_mode": {
    "name": "ipython",
    "version": 3
   },
   "file_extension": ".py",
   "mimetype": "text/x-python",
   "name": "python",
   "nbconvert_exporter": "python",
   "pygments_lexer": "ipython3",
   "version": "3.9.0"
  },
  "orig_nbformat": 4
 },
 "nbformat": 4,
 "nbformat_minor": 2
}