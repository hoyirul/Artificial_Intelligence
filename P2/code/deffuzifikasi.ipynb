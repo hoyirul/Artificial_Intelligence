{
 "cells": [
  {
   "cell_type": "code",
   "execution_count": 7,
   "source": [
    "import os\r\n",
    "from pylab import *\r\n",
    "import numpy as np\r\n",
    "import skfuzzy as fuzz\r\n",
    "import matplotlib\r\n",
    "import matplotlib.pyplot as plt\r\n",
    "\r\n",
    "x_qual = np.arange(0, 10, 1)\r\n",
    "x_serv = np.arange(0, 10, 1)\r\n",
    "x_tip  = np.arange(0, 10, 1)\r\n",
    "\r\n",
    "qual_lo = fuzz.trimf(x_qual, [0,0,5])\r\n",
    "qual_md = fuzz.trimf(x_qual, [0,5,10])\r\n",
    "qual_hi = fuzz.trimf(x_qual, [5,10,10])\r\n",
    "serv_lo = fuzz.trimf(x_serv, [0,0,5])\r\n",
    "serv_md = fuzz.trimf(x_serv, [0,5,10])\r\n",
    "serv_hi = fuzz.trimf(x_serv, [5,10,10])\r\n",
    "tip_lo  = fuzz.trimf(x_tip, [0,0,13])\r\n",
    "tip_md  = fuzz.trimf(x_tip, [0,13,25])\r\n",
    "tip_hi  = fuzz.trimf(x_tip, [13,25,25])\r\n",
    "\r\n",
    "qual_level_lo = fuzz.interp_membership(x_qual, qual_lo, 6.5)\r\n",
    "qual_level_md = fuzz.interp_membership(x_qual, qual_md, 6.5)\r\n",
    "qual_level_hi = fuzz.interp_membership(x_qual, qual_hi, 6.5)\r\n",
    "serv_level_lo = fuzz.interp_membership(x_serv, serv_lo, 9.8)\r\n",
    "serv_level_md = fuzz.interp_membership(x_serv, serv_md, 9.8)\r\n",
    "serv_level_hi = fuzz.interp_membership(x_serv, serv_hi, 9.8)\r\n",
    "\r\n",
    "active_rule1 = np.fmax(qual_level_lo, serv_level_lo)\r\n",
    "\r\n",
    "tip_activation_lo = np.fmin(active_rule1, tip_lo)\r\n",
    "tip_activation_md = np.fmin(active_rule1, tip_md)\r\n",
    "\r\n",
    "active_rule3 = np.fmax(qual_level_hi, tip_hi)\r\n",
    "tip_activation_hi = np.fmin(active_rule3, tip_hi)\r\n",
    "tip0 = np.zeros_like(x_tip)\r\n",
    "\r\n",
    "aggregated = np.fmax(tip_activation_lo, np.fmax(tip_activation_md, tip_activation_hi))\r\n",
    "\r\n",
    "tip = fuzz.defuzz(x_tip, aggregated, 'centroid')\r\n",
    "tip_activation = fuzz.interp_membership(x_tip, aggregated, tip)\r\n",
    "\r\n",
    "fig = plt.figure()\r\n",
    "fig, ax0 = plt.subplots(figsize=(8, 3))\r\n",
    "ax0.plot(x_tip, tip_lo, 'b', linewidth=0.5, linestyle='--')\r\n",
    "ax0.plot(x_tip, tip_md, 'g', linewidth=0.5, linestyle='--')\r\n",
    "ax0.plot(x_tip, tip_hi, 'r', linewidth=0.5, linestyle='--')\r\n",
    "ax0.fill_between(x_tip, tip0, aggregated, facecolor='Orange', alpha=0.7)\r\n",
    "ax0.plot([tip, tip], [0, tip_activation], 'k', linewidth=1.5, alpha=0.9)\r\n",
    "ax0.set_title('Aggregated membership and result (line)')\r\n",
    "\r\n",
    "\r\n",
    "# Turn off top/right axes\r\n",
    "for ax in (ax0,):\r\n",
    "    ax.spines['top'].set_visible(False)\r\n",
    "    ax.spines['right'].set_visible(False)\r\n",
    "    ax.get_xaxis().tick_bottom()\r\n",
    "    ax.get_yaxis().tick_left()\r\n",
    "plt.tight_layout()"
   ],
   "outputs": [
    {
     "output_type": "error",
     "ename": "AssertionError",
     "evalue": "Total area is zero in defuzzification!",
     "traceback": [
      "\u001b[1;31m---------------------------------------------------------------------------\u001b[0m",
      "\u001b[1;31mAssertionError\u001b[0m                            Traceback (most recent call last)",
      "\u001b[1;32m~\\AppData\\Local\\Temp/ipykernel_28620/2370530036.py\u001b[0m in \u001b[0;36m<module>\u001b[1;34m\u001b[0m\n\u001b[0;32m     38\u001b[0m \u001b[0maggregated\u001b[0m \u001b[1;33m=\u001b[0m \u001b[0mnp\u001b[0m\u001b[1;33m.\u001b[0m\u001b[0mfmax\u001b[0m\u001b[1;33m(\u001b[0m\u001b[0mtip_activation_lo\u001b[0m\u001b[1;33m,\u001b[0m \u001b[0mnp\u001b[0m\u001b[1;33m.\u001b[0m\u001b[0mfmax\u001b[0m\u001b[1;33m(\u001b[0m\u001b[0mtip_activation_md\u001b[0m\u001b[1;33m,\u001b[0m \u001b[0mtip_activation_hi\u001b[0m\u001b[1;33m)\u001b[0m\u001b[1;33m)\u001b[0m\u001b[1;33m\u001b[0m\u001b[1;33m\u001b[0m\u001b[0m\n\u001b[0;32m     39\u001b[0m \u001b[1;33m\u001b[0m\u001b[0m\n\u001b[1;32m---> 40\u001b[1;33m \u001b[0mtip\u001b[0m \u001b[1;33m=\u001b[0m \u001b[0mfuzz\u001b[0m\u001b[1;33m.\u001b[0m\u001b[0mdefuzz\u001b[0m\u001b[1;33m(\u001b[0m\u001b[0mx_tip\u001b[0m\u001b[1;33m,\u001b[0m \u001b[0maggregated\u001b[0m\u001b[1;33m,\u001b[0m \u001b[1;34m'centroid'\u001b[0m\u001b[1;33m)\u001b[0m\u001b[1;33m\u001b[0m\u001b[1;33m\u001b[0m\u001b[0m\n\u001b[0m\u001b[0;32m     41\u001b[0m \u001b[0mtip_activation\u001b[0m \u001b[1;33m=\u001b[0m \u001b[0mfuzz\u001b[0m\u001b[1;33m.\u001b[0m\u001b[0minterp_membership\u001b[0m\u001b[1;33m(\u001b[0m\u001b[0mx_tip\u001b[0m\u001b[1;33m,\u001b[0m \u001b[0maggregated\u001b[0m\u001b[1;33m,\u001b[0m \u001b[0mtip\u001b[0m\u001b[1;33m)\u001b[0m\u001b[1;33m\u001b[0m\u001b[1;33m\u001b[0m\u001b[0m\n\u001b[0;32m     42\u001b[0m \u001b[1;33m\u001b[0m\u001b[0m\n",
      "\u001b[1;32m~\\AppData\\Local\\Programs\\Python\\Python39\\lib\\site-packages\\skfuzzy\\defuzzify\\defuzz.py\u001b[0m in \u001b[0;36mdefuzz\u001b[1;34m(x, mfx, mode)\u001b[0m\n\u001b[0;32m    246\u001b[0m     \u001b[1;32mif\u001b[0m \u001b[1;34m'centroid'\u001b[0m \u001b[1;32min\u001b[0m \u001b[0mmode\u001b[0m \u001b[1;32mor\u001b[0m \u001b[1;34m'bisector'\u001b[0m \u001b[1;32min\u001b[0m \u001b[0mmode\u001b[0m\u001b[1;33m:\u001b[0m\u001b[1;33m\u001b[0m\u001b[1;33m\u001b[0m\u001b[0m\n\u001b[0;32m    247\u001b[0m         \u001b[0mzero_truth_degree\u001b[0m \u001b[1;33m=\u001b[0m \u001b[0mmfx\u001b[0m\u001b[1;33m.\u001b[0m\u001b[0msum\u001b[0m\u001b[1;33m(\u001b[0m\u001b[1;33m)\u001b[0m \u001b[1;33m==\u001b[0m \u001b[1;36m0\u001b[0m  \u001b[1;31m# Approximation of total area\u001b[0m\u001b[1;33m\u001b[0m\u001b[1;33m\u001b[0m\u001b[0m\n\u001b[1;32m--> 248\u001b[1;33m         \u001b[1;32massert\u001b[0m \u001b[1;32mnot\u001b[0m \u001b[0mzero_truth_degree\u001b[0m\u001b[1;33m,\u001b[0m \u001b[1;34m'Total area is zero in defuzzification!'\u001b[0m\u001b[1;33m\u001b[0m\u001b[1;33m\u001b[0m\u001b[0m\n\u001b[0m\u001b[0;32m    249\u001b[0m \u001b[1;33m\u001b[0m\u001b[0m\n\u001b[0;32m    250\u001b[0m         \u001b[1;32mif\u001b[0m \u001b[1;34m'centroid'\u001b[0m \u001b[1;32min\u001b[0m \u001b[0mmode\u001b[0m\u001b[1;33m:\u001b[0m\u001b[1;33m\u001b[0m\u001b[1;33m\u001b[0m\u001b[0m\n",
      "\u001b[1;31mAssertionError\u001b[0m: Total area is zero in defuzzification!"
     ]
    }
   ],
   "metadata": {}
  }
 ],
 "metadata": {
  "orig_nbformat": 4,
  "language_info": {
   "name": "python",
   "version": "3.9.0",
   "mimetype": "text/x-python",
   "codemirror_mode": {
    "name": "ipython",
    "version": 3
   },
   "pygments_lexer": "ipython3",
   "nbconvert_exporter": "python",
   "file_extension": ".py"
  },
  "kernelspec": {
   "name": "python3",
   "display_name": "Python 3.9.0 64-bit"
  },
  "interpreter": {
   "hash": "44c586f75b23a89659694ae60941d7c0ce53054168c68f39990608d2df2f7e5a"
  }
 },
 "nbformat": 4,
 "nbformat_minor": 2
}