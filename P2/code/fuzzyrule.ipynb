{
 "cells": [
  {
   "cell_type": "code",
   "execution_count": 15,
   "source": [
    "import os\r\n",
    "from pylab import *\r\n",
    "import numpy as np\r\n",
    "import skfuzzy as fuzz\r\n",
    "import matplotlib\r\n",
    "import matplotlib.pyplot as plt\r\n",
    "\r\n",
    "x_qual = np.arange(0, 10, 1)\r\n",
    "x_serv = np.arange(0, 10, 1)\r\n",
    "x_tip  = np.arange(0, 10, 1)\r\n",
    "\r\n",
    "qual_lo = fuzz.trimf(x_qual, [0,0,5])\r\n",
    "qual_md = fuzz.trimf(x_qual, [0,5,10])\r\n",
    "qual_hi = fuzz.trimf(x_qual, [5,10,10])\r\n",
    "serv_lo = fuzz.trimf(x_serv, [0,0,5])\r\n",
    "serv_md = fuzz.trimf(x_serv, [0,5,10])\r\n",
    "serv_hi = fuzz.trimf(x_serv, [5,10,10])\r\n",
    "tip_lo  = fuzz.trimf(x_tip, [0,0,13])\r\n",
    "tip_md  = fuzz.trimf(x_tip, [0,13,25])\r\n",
    "tip_hi  = fuzz.trimf(x_tip, [13,25,25])\r\n",
    "\r\n",
    "# We need the activation of our fuzzy membership functions at these values.\r\n",
    "# The exact values 6.5 and 9.8 do not exist on our universes...\r\n",
    "# This is what fuzz. interp_membership exists for!\r\n",
    "qual_level_lo = fuzz.interp_membership(x_qual, qual_lo, 6.5)\r\n",
    "qual_level_md = fuzz.interp_membership(x_qual, qual_md, 6.5)\r\n",
    "qual_level_hi = fuzz.interp_membership(x_qual, qual_hi, 6.5)\r\n",
    "serv_level_lo = fuzz.interp_membership(x_serv, serv_lo, 9.8)\r\n",
    "serv_level_md = fuzz.interp_membership(x_serv, serv_md, 9.8)\r\n",
    "serv_level_hi = fuzz.interp_membership(x_serv, serv_hi, 9.8)\r\n",
    "\r\n",
    "active_rule1 = np.fmax(qual_level_lo, serv_level_lo)\r\n",
    "\r\n",
    "tip_activation_lo = np.fmin(active_rule1, tip_lo)\r\n",
    "tip_activation_md = np.fmin(active_rule1, tip_md)\r\n",
    "\r\n",
    "active_rule3 = np.fmax(qual_level_hi, tip_hi)\r\n",
    "tip_activation_hi = np.fmin(active_rule3, tip_hi)\r\n",
    "tip0 = np.zeros_like(x_tip)\r\n",
    "\r\n",
    "# Visualize this\r\n",
    "fig = plt.figure()\r\n",
    "fig, ax0 = plt.subplots(figsize=(8, 3))\r\n",
    "ax0.fill_between(x_tip, tip0, tip_activation_lo, facecolor='b', alpha=0.7)\r\n",
    "ax0.plot(x_tip, tip_lo, 'b', linewidth=0.5, linestyle='--', )\r\n",
    "ax0.fill_between(x_tip, tip0, tip_activation_md, facecolor='g', alpha=0.7)\r\n",
    "ax0.plot(x_tip, tip_md, 'g', linewidth=0.5, linestyle='--')\r\n",
    "ax0.fill_between(x_tip, tip0, tip_activation_hi, facecolor='r', alpha=0.7)\r\n",
    "ax0.plot(x_tip, tip_hi, 'r', linewidth=0.5, linestyle='--')\r\n",
    "ax0.set_title('Output membership activity')\r\n",
    "\r\n",
    "for ax in (ax0,):\r\n",
    "    ax.spines['top'].set_visible(False)\r\n",
    "    ax.spines['right'].set_visible(False)\r\n",
    "    ax.get_xaxis().tick_bottom()\r\n",
    "    ax.get_yaxis().tick_left()\r\n",
    "plt.tight_layout()\r\n",
    "\r\n"
   ],
   "outputs": [
    {
     "output_type": "display_data",
     "data": {
      "text/plain": [
       "<Figure size 432x288 with 0 Axes>"
      ]
     },
     "metadata": {}
    },
    {
     "output_type": "display_data",
     "data": {
      "image/png": "[encoded data removed]",
      "text/plain": [
       "<Figure size 576x216 with 1 Axes>"
      ]
     },
     "metadata": {
      "needs_background": "light"
     }
    }
   ],
   "metadata": {}
  }
 ],
 "metadata": {
  "orig_nbformat": 4,
  "language_info": {
   "name": "python",
   "version": "3.9.0",
   "mimetype": "text/x-python",
   "codemirror_mode": {
    "name": "ipython",
    "version": 3
   },
   "pygments_lexer": "ipython3",
   "nbconvert_exporter": "python",
   "file_extension": ".py"
  },
  "kernelspec": {
   "name": "python3",
   "display_name": "Python 3.9.0 64-bit"
  },
  "interpreter": {
   "hash": "44c586f75b23a89659694ae60941d7c0ce53054168c68f39990608d2df2f7e5a"
  }
 },
 "nbformat": 4,
 "nbformat_minor": 2
}