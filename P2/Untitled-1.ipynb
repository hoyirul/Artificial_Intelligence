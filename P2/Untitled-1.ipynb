{
 "cells": [
  {
   "cell_type": "code",
   "execution_count": 6,
   "source": [
    "import numpy as np\r\n",
    "import datetime as dt\r\n",
    "import pandas as pd\r\n",
    "\r\n",
    "a = np.arange(10)\r\n",
    "print(a)\r\n",
    "\r\n",
    "now = dt.datetime.now()\r\n",
    "print('Halo teman. Waktu sekarang adalah {}'.format(now))\r\n",
    "\r\n",
    "df = pd.DataFrame({\r\n",
    "        'nama':['joni','meri','peter'],\r\n",
    "        'umur':[23,78,22],\r\n",
    "        'propinsi':['Sumatera Selatan','Jatim','DKI']\r\n",
    "     })\r\n",
    "df\r\n",
    "# str = \"Mochammad Hairullah\"\r\n",
    "# print(str.upper())"
   ],
   "outputs": [
    {
     "output_type": "stream",
     "name": "stdout",
     "text": [
      "[0 1 2 3 4 5 6 7 8 9]\n",
      "Halo teman. Waktu sekarang adalah 2021-09-07 21:56:06.105766\n"
     ]
    },
    {
     "output_type": "execute_result",
     "data": {
      "text/html": [
       "<div>\n",
       "<style scoped>\n",
       "    .dataframe tbody tr th:only-of-type {\n",
       "        vertical-align: middle;\n",
       "    }\n",
       "\n",
       "    .dataframe tbody tr th {\n",
       "        vertical-align: top;\n",
       "    }\n",
       "\n",
       "    .dataframe thead th {\n",
       "        text-align: right;\n",
       "    }\n",
       "</style>\n",
       "<table border=\"1\" class=\"dataframe\">\n",
       "  <thead>\n",
       "    <tr style=\"text-align: right;\">\n",
       "      <th></th>\n",
       "      <th>nama</th>\n",
       "      <th>umur</th>\n",
       "      <th>propinsi</th>\n",
       "    </tr>\n",
       "  </thead>\n",
       "  <tbody>\n",
       "    <tr>\n",
       "      <th>0</th>\n",
       "      <td>joni</td>\n",
       "      <td>23</td>\n",
       "      <td>Sumatera Selatan</td>\n",
       "    </tr>\n",
       "    <tr>\n",
       "      <th>1</th>\n",
       "      <td>meri</td>\n",
       "      <td>78</td>\n",
       "      <td>Jatim</td>\n",
       "    </tr>\n",
       "    <tr>\n",
       "      <th>2</th>\n",
       "      <td>peter</td>\n",
       "      <td>22</td>\n",
       "      <td>DKI</td>\n",
       "    </tr>\n",
       "  </tbody>\n",
       "</table>\n",
       "</div>"
      ],
      "text/plain": [
       "    nama  umur          propinsi\n",
       "0   joni    23  Sumatera Selatan\n",
       "1   meri    78             Jatim\n",
       "2  peter    22               DKI"
      ]
     },
     "metadata": {},
     "execution_count": 6
    }
   ],
   "metadata": {}
  }
 ],
 "metadata": {
  "orig_nbformat": 4,
  "language_info": {
   "name": "python",
   "version": "3.9.0",
   "mimetype": "text/x-python",
   "codemirror_mode": {
    "name": "ipython",
    "version": 3
   },
   "pygments_lexer": "ipython3",
   "nbconvert_exporter": "python",
   "file_extension": ".py"
  },
  "kernelspec": {
   "name": "python3",
   "display_name": "Python 3.9.0 64-bit"
  },
  "interpreter": {
   "hash": "44c586f75b23a89659694ae60941d7c0ce53054168c68f39990608d2df2f7e5a"
  }
 },
 "nbformat": 4,
 "nbformat_minor": 2
}