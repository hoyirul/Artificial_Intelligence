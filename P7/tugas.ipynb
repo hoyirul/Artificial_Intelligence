{
 "cells": [
  {
   "cell_type": "code",
   "execution_count": 3,
   "metadata": {},
   "outputs": [
    {
     "name": "stdout",
     "output_type": "stream",
     "text": [
      "['Lutfi', 'Didik', 'Anik', 'Rofi', 'Setya']\n",
      "['Andin', 'Didik', 'Anik', 'Rofi', 'Setya']\n",
      "['Lies', 'Rofi', 'Setya']\n",
      "['Fendi', 'Ita', 'Rofi', 'Setya']\n",
      "['Fendi', 'Ita', 'Rofi', 'Setya']\n"
     ]
    }
   ],
   "source": [
    "ada_family = {\n",
    "    'Farhan': ['Lutfi'],\n",
    "    'Arfan': ['Lutfi'],\n",
    "    'Lutfi': ['Didik', 'Anik'],\n",
    "    'Naura': ['Andin'],\n",
    "    'Andin': ['Didik', 'Anik'],\n",
    "    'Anik': ['Rofi', 'Setya'],\n",
    "    'Hanan': ['Lies'],\n",
    "    'Lies': ['Rofi', 'Setya'],\n",
    "    'Lia': ['Fendi', 'Ita'],\n",
    "    'Vano': ['Fendi', 'Ita'],\n",
    "    'Fendi': ['Rofi', 'Setya']\n",
    "}\n",
    "\n",
    "def ancestors(genealogy, person):\n",
    "    list_of_ancestors=[]\n",
    "    \n",
    "    if person in genealogy:\n",
    "        list_of_ancestors = genealogy[person]\n",
    "        for e in genealogy[person]:\n",
    "            for i in ancestors(genealogy, e):\n",
    "                if i not in list_of_ancestors:\n",
    "                    list_of_ancestors += ancestors(genealogy,e)\n",
    "                    \n",
    "    else:\n",
    "        list_of_ancestors+=[]\n",
    "        \n",
    "    return list_of_ancestors\n",
    "\n",
    "print (ancestors(ada_family, 'Farhan'))\n",
    "print (ancestors(ada_family, 'Naura'))\n",
    "print (ancestors(ada_family, 'Hanan'))\n",
    "print (ancestors(ada_family, 'Lia'))\n",
    "print (ancestors(ada_family, 'Vano'))"
   ]
  }
 ],
 "metadata": {
  "interpreter": {
   "hash": "44c586f75b23a89659694ae60941d7c0ce53054168c68f39990608d2df2f7e5a"
  },
  "kernelspec": {
   "display_name": "Python 3.9.0 64-bit",
   "name": "python3"
  },
  "language_info": {
   "codemirror_mode": {
    "name": "ipython",
    "version": 3
   },
   "file_extension": ".py",
   "mimetype": "text/x-python",
   "name": "python",
   "nbconvert_exporter": "python",
   "pygments_lexer": "ipython3",
   "version": "3.9.0"
  },
  "orig_nbformat": 4
 },
 "nbformat": 4,
 "nbformat_minor": 2
}
