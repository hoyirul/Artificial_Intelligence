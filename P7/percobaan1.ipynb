{
 "cells": [
  {
   "cell_type": "code",
   "execution_count": 2,
   "metadata": {},
   "outputs": [
    {
     "name": "stdout",
     "output_type": "stream",
     "text": [
      "['Anne Isabella Milbanke', 'George Gordon Byron', 'Catherine Gordon', 'Captain John Byron']\n",
      "['Anne Isabella Blunt', 'Wilfrid Scawen Blunt', 'Augusta Ada king', 'William King-Noel']\n",
      "[]\n"
     ]
    }
   ],
   "source": [
    "ada_family = {'Judith Blunt-Lytton': ['Anne Isabella Blunt', 'Wilfrid Scawen Blunt'],\n",
    "             'Ada King-Milbanke': ['Ralph King-Milbanke', 'Fanny Heriot'],\n",
    "             'Ralph King-Milbanke': ['Augusta Ada King', 'William King-Noel'],\n",
    "             'Anne Isabella Blunt': ['Augusta Ada king', 'William King-Noel'],\n",
    "             'Byron King-Noel': ['Augusta Ada King', 'William King-Noel'],\n",
    "             'Augusta Ada King': ['Anne Isabella Milbanke', 'George Gordon Byron'],\n",
    "             'George Gordon Byron': ['Catherine Gordon', 'Captain John Byron'],\n",
    "             'John Byron': ['Vice-Admiral John Byron', 'Sophia Trevannion']}\n",
    "\n",
    "def ancestors(genealogy, person):\n",
    "    list_of_ancestors=[]\n",
    "    \n",
    "    if person in genealogy:\n",
    "        list_of_ancestors = genealogy[person]\n",
    "        for e in genealogy[person]:\n",
    "            for i in ancestors(genealogy, e):\n",
    "                if i not in list_of_ancestors:\n",
    "                    list_of_ancestors += ancestors(genealogy,e)\n",
    "                    \n",
    "    else:\n",
    "        list_of_ancestors+=[]\n",
    "        \n",
    "    return list_of_ancestors\n",
    "\n",
    "# 1st Printing\n",
    "print (ancestors(ada_family, 'Augusta Ada King'))\n",
    "#>>> ['Anne Isabella Milbanke', 'George Gordan Byron']\n",
    "# 'Catherine Gordon' , 'Captain Jhon Byron'\n",
    "\n",
    "# 2nd Printing\n",
    "print (ancestors(ada_family, 'Judith Blunt-Lytton'))\n",
    "#>>> ['Anne Isabella Blunt', 'Wilfrid Scawen Blunt', 'Augusta Ada King',\n",
    "#    'William King-Noel', 'Anne Isabella Milbanke', 'George Gordon Byron',\n",
    "#    'Catherine Gordon', 'Captain Jhon Byron']\n",
    "\n",
    "# 3rd Printing\n",
    "print (ancestors(ada_family, 'Dave'))\n",
    "#>>> []\n"
   ]
  }
 ],
 "metadata": {
  "interpreter": {
   "hash": "44c586f75b23a89659694ae60941d7c0ce53054168c68f39990608d2df2f7e5a"
  },
  "kernelspec": {
   "display_name": "Python 3.9.0 64-bit",
   "name": "python3"
  },
  "language_info": {
   "codemirror_mode": {
    "name": "ipython",
    "version": 3
   },
   "file_extension": ".py",
   "mimetype": "text/x-python",
   "name": "python",
   "nbconvert_exporter": "python",
   "pygments_lexer": "ipython3",
   "version": "3.9.0"
  },
  "orig_nbformat": 4
 },
 "nbformat": 4,
 "nbformat_minor": 2
}
