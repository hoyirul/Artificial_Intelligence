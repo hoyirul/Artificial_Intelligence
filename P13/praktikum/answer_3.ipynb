{
 "cells": [
  {
   "cell_type": "code",
   "execution_count": 1,
   "id": "bab46680",
   "metadata": {},
   "outputs": [
    {
     "name": "stdout",
     "output_type": "stream",
     "text": [
      ">epoch=0, lrate=1.000, error=2.000\n",
      ">epoch=1, lrate=1.000, error=3.000\n",
      ">epoch=2, lrate=1.000, error=3.000\n",
      ">epoch=3, lrate=1.000, error=2.000\n",
      ">epoch=4, lrate=1.000, error=1.000\n",
      ">epoch=5, lrate=1.000, error=0.000\n",
      ">epoch=6, lrate=1.000, error=0.000\n",
      "[-3.0, 2.0, 1.0]\n"
     ]
    },
    {
     "data": {
      "text/plain": [
       "[<matplotlib.lines.Line2D at 0x128471060>]"
      ]
     },
     "execution_count": 1,
     "metadata": {},
     "output_type": "execute_result"
    },
    {
     "data": {
      "image/png": "[encoded data removed]",
      "text/plain": [
       "<Figure size 432x288 with 1 Axes>"
      ]
     },
     "metadata": {
      "needs_background": "light"
     },
     "output_type": "display_data"
    }
   ],
   "source": [
    "def predict(row, weights):\n",
    "    activation = weights[0]\n",
    "    for i in range(len(row)-1):\n",
    "        activation += weights[i + 1] * row[i]\n",
    "    return 1.0 if activation >= 0.0 else 0.0\n",
    "\n",
    "import numpy as np\n",
    "arr_error=[]\n",
    "def train_weights(train, l_rate, n_epoch):\n",
    "    weights = [0.0 for i in range(len(train[0]))]\n",
    "    for epoch in range(n_epoch):\n",
    "        sum_error = 0.0\n",
    "        for row in train:\n",
    "            prediction = predict(row, weights)\n",
    "            error = row[-1] - prediction\n",
    "            sum_error += error**2\n",
    "            weights[0] = weights[0] + l_rate * error\n",
    "            for i in range(len(row)-1):\n",
    "                weights[i + 1] = weights[i + 1] + l_rate * error * row[i]\n",
    "        print('>epoch=%d, lrate=%.3f, error=%.3f' % (epoch, l_rate, sum_error))\n",
    "        arr_error.append(sum_error)\n",
    "    return weights, arr_error\n",
    "\n",
    "dataset = [[0, 0, 0],\n",
    "          [0, 1, 0],\n",
    "          [1, 0, 0],\n",
    "          [1, 1, 1]]\n",
    "\n",
    "weights = [0, 0, 0] #bias,w1,w2\n",
    "l_rate = 1\n",
    "n_epoch = 7\n",
    "weights, arr_error = train_weights(dataset, l_rate, n_epoch)\n",
    "print(weights)\n",
    "\n",
    "#visualisasi\n",
    "import matplotlib.pyplot as plt\n",
    "plt.plot(arr_error)\n"
   ]
  },
  {
   "cell_type": "code",
   "execution_count": null,
   "id": "5d40426e",
   "metadata": {},
   "outputs": [],
   "source": []
  }
 ],
 "metadata": {
  "kernelspec": {
   "display_name": "Python 3",
   "language": "python",
   "name": "python3"
  },
  "language_info": {
   "codemirror_mode": {
    "name": "ipython",
    "version": 3
   },
   "file_extension": ".py",
   "mimetype": "text/x-python",
   "name": "python",
   "nbconvert_exporter": "python",
   "pygments_lexer": "ipython3",
   "version": "3.10.0"
  }
 },
 "nbformat": 4,
 "nbformat_minor": 5
}
