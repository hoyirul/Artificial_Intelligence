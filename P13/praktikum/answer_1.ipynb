{
 "cells": [
  {
   "cell_type": "code",
   "execution_count": 1,
   "id": "b097cac1",
   "metadata": {},
   "outputs": [
    {
     "name": "stdout",
     "output_type": "stream",
     "text": [
      ">epoch=0, lrate=1.000, error=1.000\n",
      ">epoch=1, lrate=1.000, error=2.000\n",
      ">epoch=2, lrate=1.000, error=0.000\n",
      ">epoch=3, lrate=1.000, error=0.000\n",
      ">epoch=4, lrate=1.000, error=0.000\n",
      ">epoch=5, lrate=1.000, error=0.000\n",
      ">epoch=6, lrate=1.000, error=0.000\n",
      "[-1.0, 1.0, 1.0]\n"
     ]
    },
    {
     "data": {
      "text/plain": [
       "[<matplotlib.lines.Line2D at 0x11fa6cf40>]"
      ]
     },
     "execution_count": 1,
     "metadata": {},
     "output_type": "execute_result"
    },
    {
     "data": {
      "image/png": "[encoded data removed]",
      "text/plain": [
       "<Figure size 432x288 with 1 Axes>"
      ]
     },
     "metadata": {
      "needs_background": "light"
     },
     "output_type": "display_data"
    }
   ],
   "source": [
    "def predict(row, weights):\n",
    "    activation = weights[0]\n",
    "    for i in range(len(row)-1):\n",
    "        activation += weights[i + 1]*row[i]\n",
    "    return 1.0 if activation >= 0.0 else 0.0\n",
    "\n",
    "import numpy as np\n",
    "arr_error=[]\n",
    "def train_weights(train, l_rate, n_epoch):\n",
    "    weights = [0.0 for i in range(len(train[0]))]\n",
    "    for epoch in range(n_epoch):\n",
    "        sum_error = 0.0\n",
    "        for row in train:\n",
    "            prediction = predict(row, weights)\n",
    "            error = row[-1] - prediction\n",
    "            sum_error += error**2\n",
    "            weights[0] = weights[0] + l_rate * error\n",
    "            for i in range(len(row)-1):\n",
    "                weights[i + 1] = weights[i + 1] + l_rate * error * row[i]\n",
    "        print('>epoch=%d, lrate=%.3f, error=%.3f' % (epoch, l_rate, sum_error))\n",
    "        arr_error.append(sum_error)\n",
    "    return weights, arr_error\n",
    "\n",
    "#Contoh Kasus OR\n",
    "dataset = [[1,1,1],\n",
    "           [1,0,1],\n",
    "           [0,1,1],\n",
    "           [0,0,0]]\n",
    "\n",
    "weights = [0, 0, 0] #bias,w1,w2\n",
    "l_rate = 1\n",
    "n_epoch = 7\n",
    "weights, arr_error = train_weights(dataset, l_rate, n_epoch)\n",
    "print(weights)\n",
    "\n",
    "#visualisasi\n",
    "import matplotlib.pyplot as plt\n",
    "plt.plot(arr_error)"
   ]
  },
  {
   "cell_type": "code",
   "execution_count": 2,
   "id": "01fb1e99",
   "metadata": {},
   "outputs": [
    {
     "name": "stdout",
     "output_type": "stream",
     "text": [
      "Expected=1, Predicted=1\n",
      "Expected=1, Predicted=1\n",
      "Expected=1, Predicted=1\n",
      "Expected=0, Predicted=0\n"
     ]
    }
   ],
   "source": [
    "Nweights = [-1,1,1]\n",
    "for row in dataset:\n",
    "    prediction = predict(row, weights)\n",
    "    print(\"Expected=%d, Predicted=%d\" % (row[-1], prediction))"
   ]
  },
  {
   "cell_type": "code",
   "execution_count": 3,
   "id": "325d6737",
   "metadata": {},
   "outputs": [
    {
     "name": "stdout",
     "output_type": "stream",
     "text": [
      "Expected=1, Predicted=1\n"
     ]
    }
   ],
   "source": [
    "Nweights = [-1,1,1]\n",
    "dataset = [[1,0,1]]\n",
    "for row in dataset:\n",
    "    prediction = predict(row, weights)\n",
    "    print(\"Expected=%d, Predicted=%d\" % (row[-1], prediction))"
   ]
  },
  {
   "cell_type": "code",
   "execution_count": null,
   "id": "42aabd2f",
   "metadata": {},
   "outputs": [],
   "source": []
  }
 ],
 "metadata": {
  "kernelspec": {
   "display_name": "Python 3",
   "language": "python",
   "name": "python3"
  },
  "language_info": {
   "codemirror_mode": {
    "name": "ipython",
    "version": 3
   },
   "file_extension": ".py",
   "mimetype": "text/x-python",
   "name": "python",
   "nbconvert_exporter": "python",
   "pygments_lexer": "ipython3",
   "version": "3.10.0"
  }
 },
 "nbformat": 4,
 "nbformat_minor": 5
}
